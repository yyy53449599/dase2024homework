{
 "cells": [
  {
   "cell_type": "code",
   "execution_count": 88,
   "id": "a07daf11-f01c-444e-a397-139e21a752ca",
   "metadata": {},
   "outputs": [],
   "source": [
    "import psycopg2\n",
    "conn = psycopg2.connect(host=\"pgm-uf6t8021ru5tac71.rwlb.rds.aliyuncs.com\", port=\"5432\", user=\"ecnu10225501456\", password=\"ECNU10225501456\", database=\"ecnu10225501456\")\n",
    "autocommit = psycopg2.extensions.ISOLATION_LEVEL_AUTOCOMMIT\n",
    "conn.set_isolation_level(autocommit)\n",
    "cur = conn.cursor()\n",
    "cur.execute(\"SET search_path TO ecnu10225501456;\")"
   ]
  },
  {
   "cell_type": "markdown",
   "id": "ba36c153-89b2-43ac-beac-e377fbc15547",
   "metadata": {},
   "source": [
    "由于我使用psycopg数据库比较熟悉，我就直接使用这个了，并且我们学校可以直接使用阿里云上的数据库"
   ]
  },
  {
   "cell_type": "code",
   "execution_count": 89,
   "id": "adf791d6-8457-4134-bfdf-5f74e5c33dcd",
   "metadata": {},
   "outputs": [],
   "source": [
    "\n",
    "create_table_query = \"\"\"\n",
    "CREATE TABLE IF NOT EXISTS \"user\" (\n",
    "    id SERIAL PRIMARY KEY,\n",
    "    name VARCHAR(100) UNIQUE,\n",
    "    sex VARCHAR(10),\n",
    "    age INT,\n",
    "    phone VARCHAR(15)\n",
    ");\n",
    "\"\"\"\n",
    "cur.execute(create_table_query)\n",
    "\n",
    "insert_data_query = \"\"\"\n",
    "INSERT INTO \"user\" (name, sex, age, phone) VALUES\n",
    "    (%s, %s, %s, %s);\n",
    "\"\"\"\n",
    "\n",
    "data_to_insert = [\n",
    "    ('John Doe', 'Male', 25, '123-456-7890'),\n",
    "    ('Jane Smith', 'Female', 31, '987-654-3210'),\n",
    "    ('Bob Johnson', 'Male', 22, '555-123-4567')\n",
    "]\n",
    "\n",
    "# 执行插入操作\n",
    "for record in data_to_insert:\n",
    "    cur.execute(insert_data_query, record)\n"
   ]
  },
  {
   "cell_type": "code",
   "execution_count": 90,
   "id": "ff990056-0b63-4983-b548-bc55cca1859b",
   "metadata": {},
   "outputs": [
    {
     "name": "stdout",
     "output_type": "stream",
     "text": [
      "年龄在 20-30 范围内的用户:\n",
      "(1, 'John Doe', 'Male', 25, '123-456-7890')\n",
      "(3, 'Bob Johnson', 'Male', 22, '555-123-4567')\n"
     ]
    }
   ],
   "source": [
    "\n",
    "cur.execute(\"\"\"\n",
    "SELECT * FROM \"user\"\n",
    "WHERE age BETWEEN 20 AND 30;\n",
    "\"\"\")\n",
    "users_in_age_range = cur.fetchall()\n",
    "print(\"年龄在 20-30 范围内的用户:\")\n",
    "for user in users_in_age_range:\n",
    "    print(user)"
   ]
  },
  {
   "cell_type": "code",
   "execution_count": 91,
   "id": "51c03af6-f805-4e9d-aa9a-6ed1c58bac2b",
   "metadata": {},
   "outputs": [
    {
     "name": "stdout",
     "output_type": "stream",
     "text": [
      "个人信息和虚拟信息已添加。\n"
     ]
    }
   ],
   "source": [
    "\n",
    "cur.execute(\"\"\"\n",
    "INSERT INTO \"user\" (name, sex, age, phone) VALUES\n",
    "    ('ymy', 'Male', 21, '123-456-7890'),\n",
    "    ('gxh', 'Male', 26, '234-567-8901'),\n",
    "    ('czt', 'Male', 18, '345-678-9012');\n",
    "\"\"\")\n",
    "print(\"个人信息和虚拟信息已添加。\")"
   ]
  },
  {
   "cell_type": "code",
   "execution_count": 92,
   "id": "ad0281b8-409e-4946-b9bd-aea1007bef24",
   "metadata": {},
   "outputs": [
    {
     "name": "stdout",
     "output_type": "stream",
     "text": [
      "年龄在 20-30 范围内，名字包含“y”的用户:\n",
      "(4, 'ymy', 'Male', 21, '123-456-7890')\n"
     ]
    }
   ],
   "source": [
    "\n",
    "cur.execute(\"\"\"\n",
    "SELECT * FROM \"user\"\n",
    "WHERE age BETWEEN 20 AND 30 AND name LIKE 'y%'\n",
    "ORDER BY age DESC;\n",
    "\"\"\")\n",
    "users_with_surname = cur.fetchall()\n",
    "print(\"年龄在 20-30 范围内，名字包含“y”的用户:\")\n",
    "for user in users_with_surname:\n",
    "    print(user)"
   ]
  },
  {
   "cell_type": "code",
   "execution_count": 93,
   "id": "53c13da1-fbae-4189-85ec-3b04b6499ec4",
   "metadata": {},
   "outputs": [
    {
     "name": "stdout",
     "output_type": "stream",
     "text": [
      "所有用户的平均年龄: 23.8333333333333333\n"
     ]
    }
   ],
   "source": [
    "\n",
    "cur.execute(\"\"\"\n",
    "SELECT AVG(age) AS average_age FROM \"user\";\n",
    "\"\"\")\n",
    "average_age = cur.fetchone()[0]\n",
    "print(f\"所有用户的平均年龄: {average_age}\")"
   ]
  },
  {
   "cell_type": "code",
   "execution_count": 94,
   "id": "f9ed0de0-d898-4b7a-95b3-82a92b300090",
   "metadata": {},
   "outputs": [
    {
     "name": "stdout",
     "output_type": "stream",
     "text": [
      "team 和 score 表已创建。\n"
     ]
    }
   ],
   "source": [
    "\n",
    "cur.execute(\"\"\"\n",
    "CREATE TABLE IF NOT EXISTS team (\n",
    "    id SERIAL PRIMARY KEY,\n",
    "    teamName VARCHAR(100) UNIQUE\n",
    ");\n",
    "\"\"\")\n",
    "\n",
    "cur.execute(\"\"\"\n",
    "CREATE TABLE IF NOT EXISTS score (\n",
    "    id SERIAL PRIMARY KEY,\n",
    "    teamid VARCHAR(100) REFERENCES team(teamName),\n",
    "    userid VARCHAR(100) REFERENCES \"user\"(name),\n",
    "    score INT\n",
    ");\n",
    "\"\"\")\n",
    "print(\"team 和 score 表已创建。\")"
   ]
  },
  {
   "cell_type": "code",
   "execution_count": 95,
   "id": "bcb85007-77db-4e40-b4a0-ba7dda2639ce",
   "metadata": {},
   "outputs": [
    {
     "name": "stdout",
     "output_type": "stream",
     "text": [
      "记录已插入到 team 和 score 表中。\n"
     ]
    }
   ],
   "source": [
    "\n",
    "cur.execute(\"\"\"\n",
    "INSERT INTO team (teamName) VALUES\n",
    "    ('ECNU'),\n",
    "    ('Other Team')\n",
    "ON CONFLICT (teamName) DO NOTHING;  \n",
    "\"\"\")\n",
    "\n",
    "cur.execute(\"\"\"\n",
    "INSERT INTO score (teamid, userid, score) VALUES\n",
    "    ('ECNU', 'ymy', 85),  \n",
    "    ('ECNU', 'gxh', 80), \n",
    "    ('ECNU', 'czt', 90)   \n",
    "\"\"\")\n",
    "print(\"记录已插入到 team 和 score 表中。\")"
   ]
  },
  {
   "cell_type": "code",
   "execution_count": 97,
   "id": "c4afd2cd-4347-477b-a2a3-afdb97c3bc1c",
   "metadata": {},
   "outputs": [
    {
     "name": "stdout",
     "output_type": "stream",
     "text": [
      "年龄小于 20 的用户:\n",
      "(6, 'czt', 'Male', 18, '345-678-9012')\n",
      "(6, 'czt', 'Male', 18, '345-678-9012')\n"
     ]
    }
   ],
   "source": [
    "\n",
    "cur.execute(\"\"\"\n",
    "SELECT u.*\n",
    "FROM \"user\" u\n",
    "JOIN score s ON u.name = s.userid\n",
    "JOIN team t ON s.teamid = t.teamName\n",
    "WHERE t.teamName = 'ECNU' AND u.age < 20;\n",
    "\"\"\")\n",
    "young_users = cur.fetchall()\n",
    "print(\"年龄小于 20 的用户:\")\n",
    "for user in young_users:\n",
    "    print(user)\n"
   ]
  },
  {
   "cell_type": "code",
   "execution_count": 98,
   "id": "2c1ab426-1a77-461d-a282-0afe49c5ffd2",
   "metadata": {},
   "outputs": [
    {
     "name": "stdout",
     "output_type": "stream",
     "text": [
      "团队 'ECNU' 的总分: 510\n"
     ]
    }
   ],
   "source": [
    "\n",
    "cur.execute(\"\"\"\n",
    "SELECT COALESCE(SUM(s.score), 0) AS total_score\n",
    "FROM score s\n",
    "JOIN team t ON s.teamid = t.teamName\n",
    "WHERE t.teamName = 'ECNU';\n",
    "\"\"\")\n",
    "total_score = cur.fetchone()[0]\n",
    "print(f\"团队 'ECNU' 的总分: {total_score}\")"
   ]
  },
  {
   "cell_type": "code",
   "execution_count": 99,
   "id": "21076385-72c9-40d9-84de-6e0fdd27c5a4",
   "metadata": {},
   "outputs": [
    {
     "name": "stdout",
     "output_type": "stream",
     "text": [
      "用户表中的所有记录已删除。\n"
     ]
    }
   ],
   "source": [
    "\n",
    "cur.execute(\"\"\"\n",
    "DROP TABLE IF EXISTS \"user\" CASCADE;\n",
    "\"\"\")\n",
    "print(\"用户表中的所有记录已删除。\")\n"
   ]
  },
  {
   "cell_type": "code",
   "execution_count": null,
   "id": "631e582a-02d0-45d5-bee7-b34035e24c81",
   "metadata": {},
   "outputs": [],
   "source": []
  }
 ],
 "metadata": {
  "kernelspec": {
   "display_name": "Python 3 (ipykernel)",
   "language": "python",
   "name": "python3"
  },
  "language_info": {
   "codemirror_mode": {
    "name": "ipython",
    "version": 3
   },
   "file_extension": ".py",
   "mimetype": "text/x-python",
   "name": "python",
   "nbconvert_exporter": "python",
   "pygments_lexer": "ipython3",
   "version": "3.11.8"
  },
  "toc-autonumbering": false,
  "toc-showtags": false
 },
 "nbformat": 4,
 "nbformat_minor": 5
}
