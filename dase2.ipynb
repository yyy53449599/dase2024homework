{
 "cells": [
  {
   "cell_type": "markdown",
   "id": "16849e15",
   "metadata": {},
   "source": [
    "Phase1"
   ]
  },
  {
   "cell_type": "code",
   "execution_count": 3,
   "id": "24454209",
   "metadata": {},
   "outputs": [
    {
     "name": "stdout",
     "output_type": "stream",
     "text": [
      "★★★★★★★★★★★★\n",
      "★ 数据科学与工程导论 ★\n",
      "★★★★★★★★★★★★\n"
     ]
    }
   ],
   "source": [
    "print(chr(0x2605) * 12)  \n",
    "print(chr(0x2605) + \" 数据科学与工程导论 \" + chr(0x2605))  \n",
    "print(chr(0x2605) * 12)  "
   ]
  },
  {
   "cell_type": "code",
   "execution_count": 4,
   "id": "b7fd3bf4",
   "metadata": {},
   "outputs": [
    {
     "name": "stdout",
     "output_type": "stream",
     "text": [
      "请输入第一个数: 1\n",
      "请输入第二个数: 2\n",
      "请输入第三个数: 3\n",
      "从小到大的顺序为: [1.0, 2.0, 3.0]\n"
     ]
    }
   ],
   "source": [
    "x = float(input(\"请输入第一个数: \"))\n",
    "y = float(input(\"请输入第二个数: \"))\n",
    "z = float(input(\"请输入第三个数: \"))\n",
    "\n",
    "numbers = [x, y, z]\n",
    "numbers.sort()\n",
    "print(\"从小到大的顺序为:\", numbers)"
   ]
  },
  {
   "cell_type": "code",
   "execution_count": 5,
   "id": "2e9af54b",
   "metadata": {},
   "outputs": [
    {
     "name": "stdout",
     "output_type": "stream",
     "text": [
      "请输入第一个数: 1\n",
      "请输入第二个数: 2\n",
      "请输入第三个数: 3\n",
      "请输入第四个数: 4\n",
      "从大到小的顺序为: [4.0, 3.0, 2.0, 1.0]\n"
     ]
    }
   ],
   "source": [
    "w = float(input(\"请输入第一个数: \"))\n",
    "x = float(input(\"请输入第二个数: \"))\n",
    "y = float(input(\"请输入第三个数: \"))\n",
    "z = float(input(\"请输入第四个数: \"))\n",
    "\n",
    "numbers = [w, x, y, z]\n",
    "numbers.sort(reverse=True)\n",
    "\n",
    "print(\"从大到小的顺序为:\", numbers)"
   ]
  },
  {
   "cell_type": "code",
   "execution_count": 6,
   "id": "cfbc5c75",
   "metadata": {},
   "outputs": [
    {
     "name": "stdout",
     "output_type": "stream",
     "text": [
      "1\n",
      "3\n",
      "5\n",
      "7\n",
      "9\n",
      "11\n",
      "13\n",
      "15\n",
      "17\n",
      "19\n",
      "21\n",
      "23\n",
      "25\n",
      "27\n",
      "29\n",
      "31\n",
      "33\n",
      "35\n",
      "37\n",
      "39\n",
      "41\n",
      "43\n",
      "45\n",
      "47\n",
      "49\n",
      "51\n",
      "53\n",
      "55\n",
      "57\n",
      "59\n",
      "61\n",
      "63\n",
      "65\n",
      "67\n",
      "69\n",
      "71\n",
      "73\n",
      "75\n",
      "77\n",
      "79\n",
      "81\n",
      "83\n",
      "85\n",
      "87\n",
      "89\n",
      "91\n",
      "93\n",
      "95\n",
      "97\n",
      "99\n"
     ]
    }
   ],
   "source": [
    "for num in range(1, 101, 2):\n",
    "    print(num)"
   ]
  },
  {
   "cell_type": "code",
   "execution_count": 7,
   "id": "72f61da5",
   "metadata": {},
   "outputs": [
    {
     "name": "stdout",
     "output_type": "stream",
     "text": [
      "1 到 100 的和是: 5050\n"
     ]
    }
   ],
   "source": [
    "total_sum = 0\n",
    "for num in range(1, 101):\n",
    "    total_sum += num\n",
    "\n",
    "print(\"1 到 100 的和是:\", total_sum)"
   ]
  },
  {
   "cell_type": "code",
   "execution_count": 8,
   "id": "0ccb2e0b",
   "metadata": {},
   "outputs": [
    {
     "name": "stdout",
     "output_type": "stream",
     "text": [
      "使用 for 循环倒排序输出: [5, 4, 3, 2, 1]\n",
      "使用 while 循环倒排序输出: [5, 4, 3, 2, 1]\n"
     ]
    }
   ],
   "source": [
    "L = [1, 2, 3, 4, 5]\n",
    "\n",
    "for_reverse = []\n",
    "for i in range(len(L) - 1, -1, -1):\n",
    "    for_reverse.append(L[i])\n",
    "print(\"使用 for 循环倒排序输出:\", for_reverse)\n",
    "\n",
    "while_reverse = []\n",
    "index = len(L) - 1\n",
    "while index >= 0:\n",
    "    while_reverse.append(L[index])\n",
    "    index -= 1\n",
    "print(\"使用 while 循环倒排序输出:\", while_reverse)"
   ]
  },
  {
   "cell_type": "code",
   "execution_count": 10,
   "id": "0b5933af",
   "metadata": {},
   "outputs": [
    {
     "name": "stdout",
     "output_type": "stream",
     "text": [
      "请输入一个字符串: aa\n",
      "字符串包含由两个或两个以上连续出现的相同字符\n"
     ]
    }
   ],
   "source": [
    "S = input(\"请输入一个字符串: \")\n",
    "\n",
    "def has_repeated_characters(s):\n",
    "    count = 1\n",
    "    for i in range(1, len(s)):\n",
    "        if s[i] == s[i - 1]:\n",
    "            count += 1\n",
    "            if count >= 2:\n",
    "                return True\n",
    "        else:\n",
    "            count = 1\n",
    "    return False\n",
    "\n",
    "if has_repeated_characters(S):\n",
    "    print(\"字符串包含由两个或两个以上连续出现的相同字符\")\n",
    "else:\n",
    "    print(\"字符串不包含这样的字符\")"
   ]
  },
  {
   "cell_type": "code",
   "execution_count": 11,
   "id": "9be9b914",
   "metadata": {},
   "outputs": [
    {
     "name": "stdout",
     "output_type": "stream",
     "text": [
      "请输入一个字符串: i am ymy\n",
      "iamymy\n"
     ]
    }
   ],
   "source": [
    "S = input(\"请输入一个字符串: \")\n",
    "result = S.replace(\" \", \"\")\n",
    "print(result)"
   ]
  },
  {
   "cell_type": "code",
   "execution_count": 12,
   "id": "7413130b",
   "metadata": {},
   "outputs": [
    {
     "name": "stdout",
     "output_type": "stream",
     "text": [
      "请输入一个数求其三次方根: 8\n",
      "三次方根为: 2.000000001547673\n"
     ]
    }
   ],
   "source": [
    "def cubic_root(n, tolerance=1e-7):\n",
    "    x = n / 3.0  \n",
    "    while True:\n",
    "        f_x = x**3 - n\n",
    "        f_prime_x = 3 * x**2\n",
    "        x_next = x - f_x / f_prime_x\n",
    "        if abs(x_next - x) < tolerance:\n",
    "            break\n",
    "        x = x_next\n",
    "    return x\n",
    "\n",
    "number = float(input(\"请输入一个数求其三次方根: \"))\n",
    "result = cubic_root(number)\n",
    "print(\"三次方根为:\", result)"
   ]
  },
  {
   "cell_type": "code",
   "execution_count": 13,
   "id": "cd5a2dfb",
   "metadata": {},
   "outputs": [
    {
     "name": "stdout",
     "output_type": "stream",
     "text": [
      "请输入一个正整数 n: 3\n",
      "3 的阶乘是: 6\n"
     ]
    }
   ],
   "source": [
    "n = int(input(\"请输入一个正整数 n: \"))\n",
    "\n",
    "factorial = 1\n",
    "for i in range(1, n + 1):\n",
    "    factorial *= i\n",
    "\n",
    "print(f\"{n} 的阶乘是: {factorial}\")"
   ]
  },
  {
   "cell_type": "code",
   "execution_count": null,
   "id": "54d952ca",
   "metadata": {},
   "outputs": [],
   "source": []
  }
 ],
 "metadata": {
  "kernelspec": {
   "display_name": "Python 3 (ipykernel)",
   "language": "python",
   "name": "python3"
  },
  "language_info": {
   "codemirror_mode": {
    "name": "ipython",
    "version": 3
   },
   "file_extension": ".py",
   "mimetype": "text/x-python",
   "name": "python",
   "nbconvert_exporter": "python",
   "pygments_lexer": "ipython3",
   "version": "3.11.5"
  }
 },
 "nbformat": 4,
 "nbformat_minor": 5
}
