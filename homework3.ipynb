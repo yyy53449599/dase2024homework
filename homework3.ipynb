{
 "cells": [
  {
   "cell_type": "code",
   "execution_count": 1,
   "id": "91af5921",
   "metadata": {},
   "outputs": [
    {
     "name": "stdout",
     "output_type": "stream",
     "text": [
      "请输入一个数: 4\n",
      "4 不是质数\n"
     ]
    }
   ],
   "source": [
    "def is_prime(n):\n",
    "    if n <= 1:\n",
    "        return False\n",
    "    for i in range(2, int(n**0.5) + 1):\n",
    "        if n % i == 0:\n",
    "            return False\n",
    "    return True\n",
    "\n",
    "a = int(input(\"请输入一个数: \"))\n",
    "if is_prime(a):\n",
    "    print(f\"{a} 是质数\")\n",
    "else:\n",
    "    print(f\"{a} 不是质数\")"
   ]
  },
  {
   "cell_type": "code",
   "execution_count": 2,
   "id": "be42681a",
   "metadata": {},
   "outputs": [
    {
     "name": "stdout",
     "output_type": "stream",
     "text": [
      "排序前数组: [12, 11, 13, 5, 6]\n",
      "排序后数组: [5, 6, 11, 12, 13]\n"
     ]
    }
   ],
   "source": [
    "def insertion_sort(arr):\n",
    "    for i in range(1, len(arr)):\n",
    "        key = arr[i]  \n",
    "        j = i - 1     \n",
    "   \n",
    "        while j >= 0 and arr[j] > key:\n",
    "            arr[j + 1] = arr[j]  \n",
    "            j -= 1  \n",
    "\n",
    "        arr[j + 1] = key\n",
    "\n",
    "if __name__ == \"__main__\":\n",
    "    sample_array = [12, 11, 13, 5, 6]\n",
    "    print(\"排序前数组:\", sample_array)\n",
    "    insertion_sort(sample_array)\n",
    "    print(\"排序后数组:\", sample_array)"
   ]
  },
  {
   "cell_type": "code",
   "execution_count": 3,
   "id": "4109765d",
   "metadata": {},
   "outputs": [
    {
     "name": "stdout",
     "output_type": "stream",
     "text": [
      "排序前数组: [64, 25, 12, 22, 11]\n",
      "排序后数组: [11, 12, 22, 25, 64]\n"
     ]
    }
   ],
   "source": [
    "def selection_sort(arr):\n",
    "    for i in range(len(arr)):\n",
    "        min_index = i\n",
    "        \n",
    "        for j in range(i + 1, len(arr)):\n",
    "            if arr[j] < arr[min_index]:\n",
    "                min_index = j\n",
    "        \n",
    "        arr[i], arr[min_index] = arr[min_index], arr[i]\n",
    "if __name__ == \"__main__\":\n",
    "    sample_array = [64, 25, 12, 22, 11]\n",
    "    print(\"排序前数组:\", sample_array)\n",
    "    selection_sort(sample_array)\n",
    "    print(\"排序后数组:\", sample_array)"
   ]
  },
  {
   "cell_type": "code",
   "execution_count": 4,
   "id": "5e83e2e2",
   "metadata": {},
   "outputs": [
    {
     "name": "stdout",
     "output_type": "stream",
     "text": [
      "排序前数组: [64, 34, 25, 12, 22, 11, 90]\n",
      "排序后数组: [11, 12, 22, 25, 34, 64, 90]\n"
     ]
    }
   ],
   "source": [
    "def quick_sort(arr):\n",
    "    if len(arr) <= 1:  \n",
    "        return arr\n",
    "    else:\n",
    "        pivot = arr[len(arr) // 2]  \n",
    "        left = [x for x in arr if x < pivot]   \n",
    "        middle = [x for x in arr if x == pivot]  \n",
    "        right = [x for x in arr if x > pivot] \n",
    "    \n",
    "        return quick_sort(left) + middle + quick_sort(right)\n",
    "\n",
    "if __name__ == \"__main__\":\n",
    "    sample_array = [64, 34, 25, 12, 22, 11, 90]\n",
    "    print(\"排序前数组:\", sample_array)\n",
    "    sorted_array = quick_sort(sample_array)\n",
    "    print(\"排序后数组:\", sorted_array)"
   ]
  },
  {
   "cell_type": "code",
   "execution_count": 5,
   "id": "5bb09a04",
   "metadata": {},
   "outputs": [
    {
     "name": "stdout",
     "output_type": "stream",
     "text": [
      "selection_sort for length 100: 0.00000 seconds\n",
      "merge_sort for length 100: 0.00000 seconds\n",
      "quick_sort for length 100: 0.00000 seconds\n",
      "selection_sort for length 1000: 0.02518 seconds\n",
      "merge_sort for length 1000: 0.00750 seconds\n",
      "quick_sort for length 1000: 0.00316 seconds\n",
      "selection_sort for length 10000: 3.86174 seconds\n",
      "merge_sort for length 10000: 0.13338 seconds\n",
      "quick_sort for length 10000: 0.02261 seconds\n"
     ]
    }
   ],
   "source": [
    "import random\n",
    "import time\n",
    "\n",
    "def selection_sort(arr):\n",
    "    for i in range(len(arr)):\n",
    "        min_index = i\n",
    "        for j in range(i + 1, len(arr)):\n",
    "            if arr[j] < arr[min_index]:\n",
    "                min_index = j\n",
    "        arr[i], arr[min_index] = arr[min_index], arr[i]\n",
    "\n",
    "def merge_sort(arr):\n",
    "    if len(arr) <= 1:\n",
    "        return arr\n",
    "    mid = len(arr) // 2\n",
    "    left = merge_sort(arr[:mid])\n",
    "    right = merge_sort(arr[mid:])\n",
    "    return merge(left, right)\n",
    "\n",
    "def merge(left, right):\n",
    "    sorted_arr = []\n",
    "    while left and right:\n",
    "        if left[0] < right[0]:\n",
    "            sorted_arr.append(left.pop(0))\n",
    "        else:\n",
    "            sorted_arr.append(right.pop(0))\n",
    "    sorted_arr.extend(left or right)\n",
    "    return sorted_arr\n",
    "\n",
    "def quick_sort(arr):\n",
    "    if len(arr) <= 1:\n",
    "        return arr\n",
    "    pivot = arr[len(arr) // 2]\n",
    "    left = [x for x in arr if x < pivot]\n",
    "    middle = [x for x in arr if x == pivot]\n",
    "    right = [x for x in arr if x > pivot]\n",
    "    return quick_sort(left) + middle + quick_sort(right)\n",
    "\n",
    "lengths = [100, 1000, 10000]\n",
    "sort_algorithms = [selection_sort, merge_sort, quick_sort]\n",
    "\n",
    "for length in lengths:\n",
    "    random_numbers = sorted([random.randint(1, 10000) for _ in range(length)])\n",
    "    \n",
    "    for sort_algorithm in sort_algorithms:\n",
    "        start_time = time.time()\n",
    "        if sort_algorithm == selection_sort:\n",
    "            arr_copy = random_numbers.copy()\n",
    "            sort_algorithm(arr_copy)\n",
    "        else:\n",
    "            arr_copy = random_numbers.copy()\n",
    "            sort_algorithm(arr_copy)\n",
    "        end_time = time.time()\n",
    "        print(f\"{sort_algorithm.__name__} for length {length}: {end_time - start_time:.5f} seconds\")"
   ]
  },
  {
   "cell_type": "code",
   "execution_count": 6,
   "id": "3f9224a2",
   "metadata": {},
   "outputs": [
    {
     "name": "stdout",
     "output_type": "stream",
     "text": [
      "当前系统时间: 2024-10-22 16:54:45\n"
     ]
    }
   ],
   "source": [
    "from datetime import datetime\n",
    "current_time = datetime.now()\n",
    "print(\"当前系统时间:\", current_time.strftime(\"%Y-%m-%d %H:%M:%S\"))"
   ]
  },
  {
   "cell_type": "code",
   "execution_count": 3,
   "id": "2a83094a",
   "metadata": {},
   "outputs": [
    {
     "name": "stdout",
     "output_type": "stream",
     "text": [
      "内容已写入 my.txt 文件。\n"
     ]
    }
   ],
   "source": [
    "import pandas as pd\n",
    "from datetime import datetime\n",
    "import time\n",
    "\n",
    "file_path = './stuGrade.csv'\n",
    "data = pd.read_csv(file_path)\n",
    "\n",
    "average_scores = data.mean(numeric_only=True)\n",
    "\n",
    "student_id = \"10225501456\"\n",
    "student_name = \"余明阳\"\n",
    "average_math = average_scores['math'].round(2)\n",
    "average_chinese = average_scores['chinese'].round(2)\n",
    "average_english = average_scores['english'].round(2)\n",
    "current_time = datetime.now().strftime(\"%Y-%m-%d %H:%M:%S\")\n",
    "time.sleep(2)\n",
    "future_time = datetime.now().strftime(\"%Y-%m-%d %H:%M:%S\")\n",
    "with open('my.txt', 'w', encoding='utf-8') as f:\n",
    "    f.write(f\"{student_id} {student_name}\\n\")\n",
    "    f.write(f\"{average_chinese}, {average_math}, {average_english}\\n\")\n",
    "    f.write(f\"{current_time}\\n\")\n",
    "    f.write(f\"{future_time}\\n\")\n",
    "\n",
    "print(\"内容已写入 my.txt 文件。\")"
   ]
  },
  {
   "cell_type": "code",
   "execution_count": null,
   "id": "0bd4e3bc",
   "metadata": {},
   "outputs": [],
   "source": []
  }
 ],
 "metadata": {
  "kernelspec": {
   "display_name": "Python 3 (ipykernel)",
   "language": "python",
   "name": "python3"
  },
  "language_info": {
   "codemirror_mode": {
    "name": "ipython",
    "version": 3
   },
   "file_extension": ".py",
   "mimetype": "text/x-python",
   "name": "python",
   "nbconvert_exporter": "python",
   "pygments_lexer": "ipython3",
   "version": "3.11.5"
  }
 },
 "nbformat": 4,
 "nbformat_minor": 5
}
